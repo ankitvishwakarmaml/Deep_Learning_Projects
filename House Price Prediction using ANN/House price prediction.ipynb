{
 "cells": [
  {
   "cell_type": "markdown",
   "metadata": {},
   "source": [
    "### Import packages"
   ]
  },
  {
   "cell_type": "code",
   "execution_count": 63,
   "metadata": {},
   "outputs": [],
   "source": [
    "import numpy as np\n",
    "import pandas as pd\n",
    "import matplotlib.pyplot as plt \n",
    "import seaborn as sns\n",
    "\n",
    "from sklearn.preprocessing import MinMaxScaler\n",
    "from sklearn.model_selection import train_test_split\n",
    " \n",
    "from keras.models import Sequential\n",
    "from keras.layers import Dense, Dropout\n",
    "from keras.callbacks import EarlyStopping"
   ]
  },
  {
   "cell_type": "markdown",
   "metadata": {},
   "source": [
    "### Loading Dataset"
   ]
  },
  {
   "cell_type": "code",
   "execution_count": 64,
   "metadata": {},
   "outputs": [],
   "source": [
    "df = pd.read_csv('housing.csv')"
   ]
  },
  {
   "cell_type": "code",
   "execution_count": 65,
   "metadata": {},
   "outputs": [
    {
     "data": {
      "text/html": [
       "<div>\n",
       "<style scoped>\n",
       "    .dataframe tbody tr th:only-of-type {\n",
       "        vertical-align: middle;\n",
       "    }\n",
       "\n",
       "    .dataframe tbody tr th {\n",
       "        vertical-align: top;\n",
       "    }\n",
       "\n",
       "    .dataframe thead th {\n",
       "        text-align: right;\n",
       "    }\n",
       "</style>\n",
       "<table border=\"1\" class=\"dataframe\">\n",
       "  <thead>\n",
       "    <tr style=\"text-align: right;\">\n",
       "      <th></th>\n",
       "      <th>longitude</th>\n",
       "      <th>latitude</th>\n",
       "      <th>housing_median_age</th>\n",
       "      <th>total_rooms</th>\n",
       "      <th>total_bedrooms</th>\n",
       "      <th>population</th>\n",
       "      <th>households</th>\n",
       "      <th>median_income</th>\n",
       "      <th>median_house_value</th>\n",
       "      <th>ocean_proximity</th>\n",
       "    </tr>\n",
       "  </thead>\n",
       "  <tbody>\n",
       "    <tr>\n",
       "      <th>0</th>\n",
       "      <td>-122.23</td>\n",
       "      <td>37.88</td>\n",
       "      <td>41.0</td>\n",
       "      <td>880.0</td>\n",
       "      <td>129.0</td>\n",
       "      <td>322.0</td>\n",
       "      <td>126.0</td>\n",
       "      <td>8.3252</td>\n",
       "      <td>452600.0</td>\n",
       "      <td>NEAR BAY</td>\n",
       "    </tr>\n",
       "    <tr>\n",
       "      <th>1</th>\n",
       "      <td>-122.22</td>\n",
       "      <td>37.86</td>\n",
       "      <td>21.0</td>\n",
       "      <td>7099.0</td>\n",
       "      <td>1106.0</td>\n",
       "      <td>2401.0</td>\n",
       "      <td>1138.0</td>\n",
       "      <td>8.3014</td>\n",
       "      <td>358500.0</td>\n",
       "      <td>NEAR BAY</td>\n",
       "    </tr>\n",
       "    <tr>\n",
       "      <th>2</th>\n",
       "      <td>-122.24</td>\n",
       "      <td>37.85</td>\n",
       "      <td>52.0</td>\n",
       "      <td>1467.0</td>\n",
       "      <td>190.0</td>\n",
       "      <td>496.0</td>\n",
       "      <td>177.0</td>\n",
       "      <td>7.2574</td>\n",
       "      <td>352100.0</td>\n",
       "      <td>NEAR BAY</td>\n",
       "    </tr>\n",
       "    <tr>\n",
       "      <th>3</th>\n",
       "      <td>-122.25</td>\n",
       "      <td>37.85</td>\n",
       "      <td>52.0</td>\n",
       "      <td>1274.0</td>\n",
       "      <td>235.0</td>\n",
       "      <td>558.0</td>\n",
       "      <td>219.0</td>\n",
       "      <td>5.6431</td>\n",
       "      <td>341300.0</td>\n",
       "      <td>NEAR BAY</td>\n",
       "    </tr>\n",
       "    <tr>\n",
       "      <th>4</th>\n",
       "      <td>-122.25</td>\n",
       "      <td>37.85</td>\n",
       "      <td>52.0</td>\n",
       "      <td>1627.0</td>\n",
       "      <td>280.0</td>\n",
       "      <td>565.0</td>\n",
       "      <td>259.0</td>\n",
       "      <td>3.8462</td>\n",
       "      <td>342200.0</td>\n",
       "      <td>NEAR BAY</td>\n",
       "    </tr>\n",
       "  </tbody>\n",
       "</table>\n",
       "</div>"
      ],
      "text/plain": [
       "   longitude  latitude  housing_median_age  total_rooms  total_bedrooms  \\\n",
       "0    -122.23     37.88                41.0        880.0           129.0   \n",
       "1    -122.22     37.86                21.0       7099.0          1106.0   \n",
       "2    -122.24     37.85                52.0       1467.0           190.0   \n",
       "3    -122.25     37.85                52.0       1274.0           235.0   \n",
       "4    -122.25     37.85                52.0       1627.0           280.0   \n",
       "\n",
       "   population  households  median_income  median_house_value ocean_proximity  \n",
       "0       322.0       126.0         8.3252            452600.0        NEAR BAY  \n",
       "1      2401.0      1138.0         8.3014            358500.0        NEAR BAY  \n",
       "2       496.0       177.0         7.2574            352100.0        NEAR BAY  \n",
       "3       558.0       219.0         5.6431            341300.0        NEAR BAY  \n",
       "4       565.0       259.0         3.8462            342200.0        NEAR BAY  "
      ]
     },
     "execution_count": 65,
     "metadata": {},
     "output_type": "execute_result"
    }
   ],
   "source": [
    "df.head()"
   ]
  },
  {
   "cell_type": "markdown",
   "metadata": {},
   "source": [
    "### Data Preprocessing"
   ]
  },
  {
   "cell_type": "code",
   "execution_count": 66,
   "metadata": {},
   "outputs": [
    {
     "data": {
      "text/plain": [
       "(20640, 10)"
      ]
     },
     "execution_count": 66,
     "metadata": {},
     "output_type": "execute_result"
    }
   ],
   "source": [
    "df.shape"
   ]
  },
  {
   "cell_type": "code",
   "execution_count": 67,
   "metadata": {},
   "outputs": [
    {
     "name": "stdout",
     "output_type": "stream",
     "text": [
      "<class 'pandas.core.frame.DataFrame'>\n",
      "RangeIndex: 20640 entries, 0 to 20639\n",
      "Data columns (total 10 columns):\n",
      " #   Column              Non-Null Count  Dtype  \n",
      "---  ------              --------------  -----  \n",
      " 0   longitude           20640 non-null  float64\n",
      " 1   latitude            20640 non-null  float64\n",
      " 2   housing_median_age  20640 non-null  float64\n",
      " 3   total_rooms         20640 non-null  float64\n",
      " 4   total_bedrooms      20433 non-null  float64\n",
      " 5   population          20640 non-null  float64\n",
      " 6   households          20640 non-null  float64\n",
      " 7   median_income       20640 non-null  float64\n",
      " 8   median_house_value  20640 non-null  float64\n",
      " 9   ocean_proximity     20640 non-null  object \n",
      "dtypes: float64(9), object(1)\n",
      "memory usage: 1.6+ MB\n"
     ]
    }
   ],
   "source": [
    "df.info()"
   ]
  },
  {
   "cell_type": "code",
   "execution_count": 68,
   "metadata": {},
   "outputs": [
    {
     "data": {
      "text/plain": [
       "ocean_proximity\n",
       "<1H OCEAN     9136\n",
       "INLAND        6551\n",
       "NEAR OCEAN    2658\n",
       "NEAR BAY      2290\n",
       "ISLAND           5\n",
       "Name: count, dtype: int64"
      ]
     },
     "execution_count": 68,
     "metadata": {},
     "output_type": "execute_result"
    }
   ],
   "source": [
    "df['ocean_proximity'].value_counts()"
   ]
  },
  {
   "cell_type": "code",
   "execution_count": 69,
   "metadata": {},
   "outputs": [
    {
     "data": {
      "text/plain": [
       "longitude               0\n",
       "latitude                0\n",
       "housing_median_age      0\n",
       "total_rooms             0\n",
       "total_bedrooms        207\n",
       "population              0\n",
       "households              0\n",
       "median_income           0\n",
       "median_house_value      0\n",
       "ocean_proximity         0\n",
       "dtype: int64"
      ]
     },
     "execution_count": 69,
     "metadata": {},
     "output_type": "execute_result"
    }
   ],
   "source": [
    "df.isnull().sum()"
   ]
  },
  {
   "cell_type": "code",
   "execution_count": 70,
   "metadata": {},
   "outputs": [],
   "source": [
    "df.dropna(inplace=True)"
   ]
  },
  {
   "cell_type": "code",
   "execution_count": 71,
   "metadata": {},
   "outputs": [
    {
     "data": {
      "text/plain": [
       "longitude             0\n",
       "latitude              0\n",
       "housing_median_age    0\n",
       "total_rooms           0\n",
       "total_bedrooms        0\n",
       "population            0\n",
       "households            0\n",
       "median_income         0\n",
       "median_house_value    0\n",
       "ocean_proximity       0\n",
       "dtype: int64"
      ]
     },
     "execution_count": 71,
     "metadata": {},
     "output_type": "execute_result"
    }
   ],
   "source": [
    "df.isnull().sum()"
   ]
  },
  {
   "cell_type": "code",
   "execution_count": 72,
   "metadata": {},
   "outputs": [
    {
     "data": {
      "text/plain": [
       "0"
      ]
     },
     "execution_count": 72,
     "metadata": {},
     "output_type": "execute_result"
    }
   ],
   "source": [
    "df.duplicated().sum()"
   ]
  },
  {
   "cell_type": "markdown",
   "metadata": {},
   "source": [
    "###  ordinal Encoding for the column (ocean_proximity)"
   ]
  },
  {
   "cell_type": "code",
   "execution_count": 73,
   "metadata": {},
   "outputs": [
    {
     "data": {
      "text/plain": [
       "ocean_proximity\n",
       "<1H OCEAN     9034\n",
       "INLAND        6496\n",
       "NEAR OCEAN    2628\n",
       "NEAR BAY      2270\n",
       "ISLAND           5\n",
       "Name: count, dtype: int64"
      ]
     },
     "execution_count": 73,
     "metadata": {},
     "output_type": "execute_result"
    }
   ],
   "source": [
    "df['ocean_proximity'].value_counts()"
   ]
  },
  {
   "cell_type": "code",
   "execution_count": 74,
   "metadata": {},
   "outputs": [],
   "source": [
    "df['ocean_proximity']=df['ocean_proximity'].map({\"<1H OCEAN\": 0,\"INLAND\": 1,\"NEAR OCEAN\": 2,\"NEAR BAY\": 3,\"ISLAND\": 4})"
   ]
  },
  {
   "cell_type": "code",
   "execution_count": 75,
   "metadata": {},
   "outputs": [
    {
     "data": {
      "text/html": [
       "<div>\n",
       "<style scoped>\n",
       "    .dataframe tbody tr th:only-of-type {\n",
       "        vertical-align: middle;\n",
       "    }\n",
       "\n",
       "    .dataframe tbody tr th {\n",
       "        vertical-align: top;\n",
       "    }\n",
       "\n",
       "    .dataframe thead th {\n",
       "        text-align: right;\n",
       "    }\n",
       "</style>\n",
       "<table border=\"1\" class=\"dataframe\">\n",
       "  <thead>\n",
       "    <tr style=\"text-align: right;\">\n",
       "      <th></th>\n",
       "      <th>longitude</th>\n",
       "      <th>latitude</th>\n",
       "      <th>housing_median_age</th>\n",
       "      <th>total_rooms</th>\n",
       "      <th>total_bedrooms</th>\n",
       "      <th>population</th>\n",
       "      <th>households</th>\n",
       "      <th>median_income</th>\n",
       "      <th>median_house_value</th>\n",
       "      <th>ocean_proximity</th>\n",
       "    </tr>\n",
       "  </thead>\n",
       "  <tbody>\n",
       "    <tr>\n",
       "      <th>11396</th>\n",
       "      <td>-117.97</td>\n",
       "      <td>33.73</td>\n",
       "      <td>19.0</td>\n",
       "      <td>4154.0</td>\n",
       "      <td>560.0</td>\n",
       "      <td>2130.0</td>\n",
       "      <td>589.0</td>\n",
       "      <td>7.2845</td>\n",
       "      <td>301800.0</td>\n",
       "      <td>0</td>\n",
       "    </tr>\n",
       "    <tr>\n",
       "      <th>12088</th>\n",
       "      <td>-117.26</td>\n",
       "      <td>33.86</td>\n",
       "      <td>16.0</td>\n",
       "      <td>1171.0</td>\n",
       "      <td>235.0</td>\n",
       "      <td>659.0</td>\n",
       "      <td>216.0</td>\n",
       "      <td>3.1103</td>\n",
       "      <td>110000.0</td>\n",
       "      <td>1</td>\n",
       "    </tr>\n",
       "    <tr>\n",
       "      <th>19900</th>\n",
       "      <td>-119.29</td>\n",
       "      <td>36.32</td>\n",
       "      <td>27.0</td>\n",
       "      <td>1513.0</td>\n",
       "      <td>374.0</td>\n",
       "      <td>839.0</td>\n",
       "      <td>350.0</td>\n",
       "      <td>1.2012</td>\n",
       "      <td>64600.0</td>\n",
       "      <td>1</td>\n",
       "    </tr>\n",
       "    <tr>\n",
       "      <th>12214</th>\n",
       "      <td>-117.12</td>\n",
       "      <td>33.49</td>\n",
       "      <td>4.0</td>\n",
       "      <td>21988.0</td>\n",
       "      <td>4055.0</td>\n",
       "      <td>8824.0</td>\n",
       "      <td>3252.0</td>\n",
       "      <td>3.9963</td>\n",
       "      <td>191100.0</td>\n",
       "      <td>0</td>\n",
       "    </tr>\n",
       "    <tr>\n",
       "      <th>16117</th>\n",
       "      <td>-122.54</td>\n",
       "      <td>37.74</td>\n",
       "      <td>42.0</td>\n",
       "      <td>2006.0</td>\n",
       "      <td>415.0</td>\n",
       "      <td>1230.0</td>\n",
       "      <td>435.0</td>\n",
       "      <td>4.1786</td>\n",
       "      <td>271100.0</td>\n",
       "      <td>2</td>\n",
       "    </tr>\n",
       "    <tr>\n",
       "      <th>9612</th>\n",
       "      <td>-120.47</td>\n",
       "      <td>37.29</td>\n",
       "      <td>16.0</td>\n",
       "      <td>749.0</td>\n",
       "      <td>222.0</td>\n",
       "      <td>1277.0</td>\n",
       "      <td>224.0</td>\n",
       "      <td>1.2054</td>\n",
       "      <td>60900.0</td>\n",
       "      <td>1</td>\n",
       "    </tr>\n",
       "    <tr>\n",
       "      <th>4786</th>\n",
       "      <td>-118.32</td>\n",
       "      <td>34.03</td>\n",
       "      <td>47.0</td>\n",
       "      <td>1734.0</td>\n",
       "      <td>453.0</td>\n",
       "      <td>1272.0</td>\n",
       "      <td>438.0</td>\n",
       "      <td>3.1731</td>\n",
       "      <td>121500.0</td>\n",
       "      <td>0</td>\n",
       "    </tr>\n",
       "    <tr>\n",
       "      <th>12389</th>\n",
       "      <td>-116.43</td>\n",
       "      <td>33.75</td>\n",
       "      <td>24.0</td>\n",
       "      <td>2596.0</td>\n",
       "      <td>438.0</td>\n",
       "      <td>473.0</td>\n",
       "      <td>237.0</td>\n",
       "      <td>3.7727</td>\n",
       "      <td>500001.0</td>\n",
       "      <td>1</td>\n",
       "    </tr>\n",
       "    <tr>\n",
       "      <th>9681</th>\n",
       "      <td>-118.97</td>\n",
       "      <td>37.64</td>\n",
       "      <td>14.0</td>\n",
       "      <td>2284.0</td>\n",
       "      <td>622.0</td>\n",
       "      <td>342.0</td>\n",
       "      <td>137.0</td>\n",
       "      <td>3.0921</td>\n",
       "      <td>87500.0</td>\n",
       "      <td>1</td>\n",
       "    </tr>\n",
       "    <tr>\n",
       "      <th>11581</th>\n",
       "      <td>-118.03</td>\n",
       "      <td>33.77</td>\n",
       "      <td>24.0</td>\n",
       "      <td>3810.0</td>\n",
       "      <td>579.0</td>\n",
       "      <td>1818.0</td>\n",
       "      <td>590.0</td>\n",
       "      <td>5.8053</td>\n",
       "      <td>255900.0</td>\n",
       "      <td>0</td>\n",
       "    </tr>\n",
       "  </tbody>\n",
       "</table>\n",
       "</div>"
      ],
      "text/plain": [
       "       longitude  latitude  housing_median_age  total_rooms  total_bedrooms  \\\n",
       "11396    -117.97     33.73                19.0       4154.0           560.0   \n",
       "12088    -117.26     33.86                16.0       1171.0           235.0   \n",
       "19900    -119.29     36.32                27.0       1513.0           374.0   \n",
       "12214    -117.12     33.49                 4.0      21988.0          4055.0   \n",
       "16117    -122.54     37.74                42.0       2006.0           415.0   \n",
       "9612     -120.47     37.29                16.0        749.0           222.0   \n",
       "4786     -118.32     34.03                47.0       1734.0           453.0   \n",
       "12389    -116.43     33.75                24.0       2596.0           438.0   \n",
       "9681     -118.97     37.64                14.0       2284.0           622.0   \n",
       "11581    -118.03     33.77                24.0       3810.0           579.0   \n",
       "\n",
       "       population  households  median_income  median_house_value  \\\n",
       "11396      2130.0       589.0         7.2845            301800.0   \n",
       "12088       659.0       216.0         3.1103            110000.0   \n",
       "19900       839.0       350.0         1.2012             64600.0   \n",
       "12214      8824.0      3252.0         3.9963            191100.0   \n",
       "16117      1230.0       435.0         4.1786            271100.0   \n",
       "9612       1277.0       224.0         1.2054             60900.0   \n",
       "4786       1272.0       438.0         3.1731            121500.0   \n",
       "12389       473.0       237.0         3.7727            500001.0   \n",
       "9681        342.0       137.0         3.0921             87500.0   \n",
       "11581      1818.0       590.0         5.8053            255900.0   \n",
       "\n",
       "       ocean_proximity  \n",
       "11396                0  \n",
       "12088                1  \n",
       "19900                1  \n",
       "12214                0  \n",
       "16117                2  \n",
       "9612                 1  \n",
       "4786                 0  \n",
       "12389                1  \n",
       "9681                 1  \n",
       "11581                0  "
      ]
     },
     "execution_count": 75,
     "metadata": {},
     "output_type": "execute_result"
    }
   ],
   "source": [
    "df.sample(10)"
   ]
  },
  {
   "cell_type": "markdown",
   "metadata": {},
   "source": [
    "### Train test split"
   ]
  },
  {
   "cell_type": "code",
   "execution_count": 76,
   "metadata": {},
   "outputs": [],
   "source": [
    "x= df.drop(['median_house_value'],axis=1)\n",
    "y = df['median_house_value']"
   ]
  },
  {
   "cell_type": "code",
   "execution_count": 77,
   "metadata": {},
   "outputs": [],
   "source": [
    "#Converting x and y into array\n",
    "x = np.array(x)\n",
    "y = np.array(y)"
   ]
  },
  {
   "cell_type": "code",
   "execution_count": 78,
   "metadata": {},
   "outputs": [],
   "source": [
    "x_train,x_test,y_train,y_test = train_test_split(x,y,test_size=0.2,random_state=42)"
   ]
  },
  {
   "cell_type": "code",
   "execution_count": 79,
   "metadata": {},
   "outputs": [
    {
     "name": "stdout",
     "output_type": "stream",
     "text": [
      "(16346, 9)\n",
      "(4087, 9)\n",
      "(16346,)\n",
      "(4087,)\n"
     ]
    }
   ],
   "source": [
    "print(x_train.shape)\n",
    "print(x_test.shape)\n",
    "print(y_train.shape)\n",
    "print(y_test.shape)\n"
   ]
  },
  {
   "cell_type": "markdown",
   "metadata": {},
   "source": [
    "### Scaling"
   ]
  },
  {
   "cell_type": "code",
   "execution_count": 80,
   "metadata": {},
   "outputs": [],
   "source": [
    "min_max_scaler = MinMaxScaler()\n",
    "x_train = min_max_scaler.fit_transform(x_train)\n",
    "x_test = min_max_scaler.transform(x_test)"
   ]
  },
  {
   "cell_type": "code",
   "execution_count": 81,
   "metadata": {},
   "outputs": [
    {
     "data": {
      "text/plain": [
       "array([[0.25809717, 0.50797024, 0.25490196, ..., 0.14635751, 0.28984428,\n",
       "        0.        ],\n",
       "       [0.47773279, 0.4357067 , 0.62745098, ..., 0.02844927, 0.20074206,\n",
       "        0.25      ],\n",
       "       [0.63663968, 0.16790648, 0.47058824, ..., 0.12465055, 0.21820389,\n",
       "        0.25      ],\n",
       "       ...,\n",
       "       [0.60020243, 0.15621679, 0.80392157, ..., 0.05936524, 0.1792458 ,\n",
       "        0.        ],\n",
       "       [0.23380567, 0.53453773, 0.21568627, ..., 0.17365565, 0.33020234,\n",
       "        0.75      ],\n",
       "       [0.19433198, 0.55154091, 1.        , ..., 0.10623253, 0.23403125,\n",
       "        0.75      ]])"
      ]
     },
     "execution_count": 81,
     "metadata": {},
     "output_type": "execute_result"
    }
   ],
   "source": [
    "x_train"
   ]
  },
  {
   "cell_type": "markdown",
   "metadata": {},
   "source": [
    "### Building model (ANN)"
   ]
  },
  {
   "cell_type": "code",
   "execution_count": 82,
   "metadata": {},
   "outputs": [
    {
     "name": "stdout",
     "output_type": "stream",
     "text": [
      "Model: \"sequential_2\"\n",
      "_________________________________________________________________\n",
      " Layer (type)                Output Shape              Param #   \n",
      "=================================================================\n",
      " dense_9 (Dense)             (None, 1000)              10000     \n",
      "                                                                 \n",
      " dropout_4 (Dropout)         (None, 1000)              0         \n",
      "                                                                 \n",
      " dense_10 (Dense)            (None, 500)               500500    \n",
      "                                                                 \n",
      " dropout_5 (Dropout)         (None, 500)               0         \n",
      "                                                                 \n",
      " dense_11 (Dense)            (None, 250)               125250    \n",
      "                                                                 \n",
      " dense_12 (Dense)            (None, 1)                 251       \n",
      "                                                                 \n",
      "=================================================================\n",
      "Total params: 636,001\n",
      "Trainable params: 636,001\n",
      "Non-trainable params: 0\n",
      "_________________________________________________________________\n"
     ]
    }
   ],
   "source": [
    "model = Sequential([\n",
    "    #input layer\n",
    "    Dense(1000, input_shape=(x_train.shape[1],), activation='relu'),\n",
    "    Dropout(0.2),\n",
    "    #two hidden layers\n",
    "    Dense(500, activation='relu'),\n",
    "    Dropout(0.2),\n",
    "    Dense(250, activation='relu'),\n",
    "    #output layer\n",
    "    Dense(1,activation='linear') # here 1 shows countinuous values\n",
    "])\n",
    "model.summary()"
   ]
  },
  {
   "cell_type": "markdown",
   "metadata": {},
   "source": [
    "##### Total Parameters: The \"Total params\" section indicates that the model has a total of 636,001 parameters. These are the weights and biases that the model will learn during training."
   ]
  },
  {
   "cell_type": "markdown",
   "metadata": {},
   "source": [
    "##### Trainable Parameters: The \"Trainable params\" section shows that all 636,001 parameters in the model are trainable, meaning they will be updated and adjusted during training to optimize the model's performance."
   ]
  },
  {
   "cell_type": "markdown",
   "metadata": {},
   "source": [
    "##### Non-trainable Parameters: The \"Non-trainable params\" section is typically 0, which means there are no parameters that won't be updated during training."
   ]
  },
  {
   "cell_type": "code",
   "execution_count": 83,
   "metadata": {},
   "outputs": [],
   "source": [
    "# Compile the model and set easlystoping\n",
    "model.compile(optimizer='rmsprop', loss='mse', metrics=['mae'])\n",
    "es = EarlyStopping(monitor='val_loss', mode='min', patience=50, restore_best_weights=True)"
   ]
  },
  {
   "cell_type": "code",
   "execution_count": 84,
   "metadata": {},
   "outputs": [
    {
     "name": "stdout",
     "output_type": "stream",
     "text": [
      "Epoch 1/20\n",
      "327/327 [==============================] - 2s 5ms/step - loss: 24323444736.0000 - mae: 119107.4141 - val_loss: 11158037504.0000 - val_mae: 85214.4453\n",
      "Epoch 2/20\n",
      "327/327 [==============================] - 1s 3ms/step - loss: 9195731968.0000 - mae: 75748.3203 - val_loss: 7410292736.0000 - val_mae: 66797.7031\n",
      "Epoch 3/20\n",
      "327/327 [==============================] - 1s 3ms/step - loss: 6247303680.0000 - mae: 59466.7344 - val_loss: 6031651328.0000 - val_mae: 57179.5508\n",
      "Epoch 4/20\n",
      "327/327 [==============================] - 1s 3ms/step - loss: 5799907840.0000 - mae: 55876.3789 - val_loss: 5923504640.0000 - val_mae: 55003.6055\n",
      "Epoch 5/20\n",
      "327/327 [==============================] - 1s 3ms/step - loss: 5642393600.0000 - mae: 54919.4023 - val_loss: 5647182848.0000 - val_mae: 54262.0547\n",
      "Epoch 6/20\n",
      "327/327 [==============================] - 1s 3ms/step - loss: 5457015808.0000 - mae: 53799.4766 - val_loss: 5585296384.0000 - val_mae: 52805.0391\n",
      "Epoch 7/20\n",
      "327/327 [==============================] - 1s 3ms/step - loss: 5277767680.0000 - mae: 52734.8320 - val_loss: 5292887040.0000 - val_mae: 52182.5312\n",
      "Epoch 8/20\n",
      "327/327 [==============================] - 1s 3ms/step - loss: 5125668352.0000 - mae: 51616.6836 - val_loss: 5170077696.0000 - val_mae: 50899.0859\n",
      "Epoch 9/20\n",
      "327/327 [==============================] - 1s 3ms/step - loss: 4966301696.0000 - mae: 50538.4023 - val_loss: 4940846592.0000 - val_mae: 50659.6914\n",
      "Epoch 10/20\n",
      "327/327 [==============================] - 1s 3ms/step - loss: 4834439168.0000 - mae: 49743.6953 - val_loss: 4847249408.0000 - val_mae: 48956.7812\n",
      "Epoch 11/20\n",
      "327/327 [==============================] - 1s 3ms/step - loss: 4717833728.0000 - mae: 48832.7930 - val_loss: 4694696448.0000 - val_mae: 48931.6836\n",
      "Epoch 12/20\n",
      "327/327 [==============================] - 1s 3ms/step - loss: 4623640064.0000 - mae: 48274.6328 - val_loss: 4651565568.0000 - val_mae: 47548.7578\n",
      "Epoch 13/20\n",
      "327/327 [==============================] - 1s 3ms/step - loss: 4550807552.0000 - mae: 47845.9844 - val_loss: 4523999744.0000 - val_mae: 48519.6094\n",
      "Epoch 14/20\n",
      "327/327 [==============================] - 1s 3ms/step - loss: 4513899008.0000 - mae: 47524.4453 - val_loss: 4473982464.0000 - val_mae: 47568.1445\n",
      "Epoch 15/20\n",
      "327/327 [==============================] - 1s 3ms/step - loss: 4457469440.0000 - mae: 47251.4531 - val_loss: 4452690944.0000 - val_mae: 47751.9805\n",
      "Epoch 16/20\n",
      "327/327 [==============================] - 1s 3ms/step - loss: 4448375808.0000 - mae: 46978.0859 - val_loss: 4628278784.0000 - val_mae: 46762.6797\n",
      "Epoch 17/20\n",
      "327/327 [==============================] - 1s 3ms/step - loss: 4413168128.0000 - mae: 46789.9805 - val_loss: 4430212096.0000 - val_mae: 48761.6445\n",
      "Epoch 18/20\n",
      "327/327 [==============================] - 1s 3ms/step - loss: 4392720384.0000 - mae: 46722.6484 - val_loss: 4398434816.0000 - val_mae: 46508.4219\n",
      "Epoch 19/20\n",
      "327/327 [==============================] - 1s 3ms/step - loss: 4402660864.0000 - mae: 46783.0586 - val_loss: 4367441920.0000 - val_mae: 47270.4844\n",
      "Epoch 20/20\n",
      "327/327 [==============================] - 1s 3ms/step - loss: 4383469568.0000 - mae: 46756.9766 - val_loss: 4369340416.0000 - val_mae: 47775.7539\n"
     ]
    }
   ],
   "source": [
    "# fit the model (training)\n",
    "history = model.fit(x_train, y_train, validation_data=(x_test, y_test), callbacks=[es], epochs=20, batch_size=50, verbose=1)"
   ]
  },
  {
   "cell_type": "markdown",
   "metadata": {},
   "source": [
    "### Metrics and Score"
   ]
  },
  {
   "cell_type": "code",
   "execution_count": 85,
   "metadata": {},
   "outputs": [
    {
     "name": "stdout",
     "output_type": "stream",
     "text": [
      "128/128 [==============================] - 0s 1ms/step\n",
      "mae : 47775.83910435749\n",
      "mae : 4369351414.221694\n",
      "mae : 0.1343298550111297\n",
      "mae : 0.6804904094080226\n"
     ]
    }
   ],
   "source": [
    "from sklearn.metrics import r2_score, mean_absolute_error, mean_squared_error, mean_squared_log_error\n",
    "\n",
    "y_pred = model.predict(x_test)\n",
    "print(\"mae :\", mean_absolute_error(y_test,y_pred))\n",
    "print(\"mae :\", mean_squared_error(y_test,y_pred))\n",
    "print(\"mae :\", mean_squared_log_error(y_test,y_pred))\n",
    "print(\"mae :\", r2_score(y_test,y_pred))"
   ]
  },
  {
   "cell_type": "code",
   "execution_count": 86,
   "metadata": {},
   "outputs": [
    {
     "data": {
      "image/png": "[encoded data removed]",
      "text/plain": [
       "<Figure size 640x480 with 1 Axes>"
      ]
     },
     "metadata": {},
     "output_type": "display_data"
    }
   ],
   "source": [
    "# Get the training and validation loss from the history object\n",
    "training_loss = history.history['loss']\n",
    "validation_loss = history.history['val_loss']\n",
    "epochs = range(1, len(training_loss) + 1)\n",
    "# Plot the training and validation loss\n",
    "plt.plot(epochs, training_loss, 'b', label='Training Loss')\n",
    "plt.plot(epochs, validation_loss, 'r', label='Validation Loss')\n",
    "\n",
    "# Label the plot\n",
    "plt.title('Training and Validation Loss')\n",
    "plt.xlabel('Epochs')\n",
    "plt.ylabel('Loss')\n",
    "plt.legend()\n",
    "\n",
    "# Show the plot\n",
    "plt.show()\n",
    "\n"
   ]
  },
  {
   "cell_type": "markdown",
   "metadata": {},
   "source": [
    "### Predictive System"
   ]
  },
  {
   "cell_type": "code",
   "execution_count": 87,
   "metadata": {},
   "outputs": [],
   "source": [
    "def pred(longitude,latitude,housing_median_age,total_rooms,total_bedrooms,population,households,median_income,ocean_proximity):\n",
    "    features = np.array([longitude,latitude,housing_median_age,total_rooms,total_bedrooms,population,households,median_income,ocean_proximity])\n",
    "    features_scaled = min_max_scaler.fit_transform([features])\n",
    "    results = model.predict(features_scaled).reshape(1,-1)\n",
    "    return results[0]"
   ]
  },
  {
   "cell_type": "code",
   "execution_count": 88,
   "metadata": {},
   "outputs": [
    {
     "name": "stdout",
     "output_type": "stream",
     "text": [
      "1/1 [==============================] - 0s 17ms/step\n"
     ]
    }
   ],
   "source": [
    "longitude = -122.2300\n",
    "latitude  = 37.8800\n",
    "housing_median_age  = 41.0000\n",
    "total_rooms        = 880.0000\n",
    "total_bedrooms   =  129.0000\n",
    "population     = 322.0000\n",
    "households          =    126.0000\n",
    "median_income       =      8.3252\n",
    "ocean_proximity       =     3.0000\n",
    "\n",
    "price = pred(longitude,latitude,housing_median_age,total_rooms,total_bedrooms,population,households,median_income,ocean_proximity)"
   ]
  },
  {
   "cell_type": "code",
   "execution_count": 89,
   "metadata": {},
   "outputs": [
    {
     "data": {
      "text/plain": [
       "array([494013.7], dtype=float32)"
      ]
     },
     "execution_count": 89,
     "metadata": {},
     "output_type": "execute_result"
    }
   ],
   "source": [
    "price #  452600.0000 # actual value"
   ]
  },
  {
   "cell_type": "markdown",
   "metadata": {},
   "source": [
    "### Save model"
   ]
  },
  {
   "cell_type": "code",
   "execution_count": 90,
   "metadata": {},
   "outputs": [],
   "source": [
    "model.save(\"model_ann.h5\")\n",
    "\n",
    "import pickle \n",
    "pickle.dump(min_max_scaler, open('scaler.pkl','wb'))"
   ]
  },
  {
   "cell_type": "markdown",
   "metadata": {},
   "source": [
    "\n",
    "### Check version "
   ]
  },
  {
   "cell_type": "code",
   "execution_count": 91,
   "metadata": {},
   "outputs": [
    {
     "name": "stdout",
     "output_type": "stream",
     "text": [
      "scikit-learn version: 1.3.0\n",
      "TensorFlow version: 2.10.0\n",
      "Keras version: 2.10.0\n"
     ]
    }
   ],
   "source": [
    "import sklearn\n",
    "import tensorflow as tf\n",
    "import keras\n",
    "\n",
    "print(\"scikit-learn version:\", sklearn.__version__)\n",
    "print(\"TensorFlow version:\", tf.__version__)\n",
    "print(\"Keras version:\", keras.__version__)"
   ]
  }
 ],
 "metadata": {
  "kernelspec": {
   "display_name": "tensorflow2",
   "language": "python",
   "name": "python3"
  },
  "language_info": {
   "codemirror_mode": {
    "name": "ipython",
    "version": 3
   },
   "file_extension": ".py",
   "mimetype": "text/x-python",
   "name": "python",
   "nbconvert_exporter": "python",
   "pygments_lexer": "ipython3",
   "version": "3.10.16"
  }
 },
 "nbformat": 4,
 "nbformat_minor": 2
}
